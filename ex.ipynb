{
 "cells": [
  {
   "cell_type": "markdown",
   "metadata": {},
   "source": []
  },
  {
   "cell_type": "code",
   "execution_count": null,
   "metadata": {},
   "outputs": [
    {
     "name": "stdout",
     "output_type": "stream",
     "text": [
      "Collecting translate\n",
      "  Downloading translate-3.6.1-py2.py3-none-any.whl (12 kB)\n",
      "Collecting click\n",
      "  Downloading click-8.1.3-py3-none-any.whl (96 kB)\n",
      "     -------------------------------------- 96.6/96.6 kB 162.3 kB/s eta 0:00:00\n",
      "Requirement already satisfied: requests in c:\\users\\ademola estrom\\appdata\\local\\programs\\python\\python310\\lib\\site-packages (from translate) (2.27.1)\n",
      "Collecting lxml\n",
      "  Downloading lxml-4.9.0-cp310-cp310-win_amd64.whl (3.6 MB)\n",
      "     ---------------------------------------- 3.6/3.6 MB 85.7 kB/s eta 0:00:00\n",
      "Collecting libretranslatepy==2.1.1\n",
      "  Downloading libretranslatepy-2.1.1-py3-none-any.whl (3.2 kB)\n",
      "Requirement already satisfied: colorama in c:\\users\\ademola estrom\\appdata\\local\\programs\\python\\python310\\lib\\site-packages (from click->translate) (0.4.4)\n",
      "Requirement already satisfied: urllib3<1.27,>=1.21.1 in c:\\users\\ademola estrom\\appdata\\local\\programs\\python\\python310\\lib\\site-packages (from requests->translate) (1.26.9)\n",
      "Requirement already satisfied: charset-normalizer~=2.0.0 in c:\\users\\ademola estrom\\appdata\\local\\programs\\python\\python310\\lib\\site-packages (from requests->translate) (2.0.12)\n",
      "Requirement already satisfied: certifi>=2017.4.17 in c:\\users\\ademola estrom\\appdata\\local\\programs\\python\\python310\\lib\\site-packages (from requests->translate) (2022.5.18.1)\n",
      "Requirement already satisfied: idna<4,>=2.5 in c:\\users\\ademola estrom\\appdata\\local\\programs\\python\\python310\\lib\\site-packages (from requests->translate) (3.3)\n",
      "Installing collected packages: libretranslatepy, lxml, click, translate\n",
      "Successfully installed click-8.1.3 libretranslatepy-2.1.1 lxml-4.9.0 translate-3.6.1\n"
     ]
    }
   ],
   "source": [
    "%pip install translate"
   ]
  },
  {
   "cell_type": "code",
   "execution_count": 6,
   "metadata": {},
   "outputs": [
    {
     "name": "stdout",
     "output_type": "stream",
     "text": [
      "Buongiorno, mi chiamo...\n"
     ]
    }
   ],
   "source": [
    "from translate import Translator\n",
    "translator = Translator(from_lang=\"english\", to_lang=\"italian\")\n",
    "translation = translator.translate(\"hello, my name is Afolabi Tiwalola\")\n",
    "print(translation)"
   ]
  },
  {
   "cell_type": "markdown",
   "metadata": {},
   "source": [
    "Textblob"
   ]
  },
  {
   "cell_type": "markdown",
   "metadata": {},
   "source": [
    "DATA FILES APPLICATIONS"
   ]
  },
  {
   "cell_type": "code",
   "execution_count": 3,
   "metadata": {},
   "outputs": [],
   "source": [
    "# Generate 50 rows and 4 columns of data \n",
    "import numpy as np\n",
    "new_data = np.random.random((50,4))\n",
    "np.savetxt(\"main.csv\", new_data, fmt = \"%.2f\", delimiter=\",\", header=\"H1, H2, H3, H4\")"
   ]
  },
  {
   "cell_type": "code",
   "execution_count": 5,
   "metadata": {},
   "outputs": [
    {
     "data": {
      "text/plain": [
       "array([[0.29, 0.28, 0.69, 0.03],\n",
       "       [0.96, 0.92, 0.43, 0.98],\n",
       "       [0.72, 0.53, 0.38, 0.25],\n",
       "       [0.81, 0.5 , 0.78, 0.64]])"
      ]
     },
     "execution_count": 5,
     "metadata": {},
     "output_type": "execute_result"
    }
   ],
   "source": [
    "# Read CSV File \n",
    "reading_csv = np.loadtxt(\"main.csv\", delimiter=\",\")\n",
    "reading_csv[:4, :]"
   ]
  },
  {
   "cell_type": "markdown",
   "metadata": {},
   "source": [
    "working with pickle files"
   ]
  },
  {
   "cell_type": "code",
   "execution_count": 6,
   "metadata": {},
   "outputs": [],
   "source": [
    "import pickle"
   ]
  },
  {
   "cell_type": "code",
   "execution_count": 7,
   "metadata": {},
   "outputs": [],
   "source": [
    "#Write to Pickle File\n",
    "ordering = {\"First\":1, \"Second\":2, \"Third\":3}\n",
    "pickle.dump(ordering, open(\"new.pkl\", 'wb'))"
   ]
  },
  {
   "cell_type": "code",
   "execution_count": 8,
   "metadata": {},
   "outputs": [],
   "source": [
    "#Read from pickle file\n",
    "reading_pickle = pickle.load(open(\"new.pkl\", \"rb\"))"
   ]
  },
  {
   "cell_type": "code",
   "execution_count": 9,
   "metadata": {},
   "outputs": [
    {
     "data": {
      "text/plain": [
       "{'First': 1, 'Second': 2, 'Third': 3}"
      ]
     },
     "execution_count": 9,
     "metadata": {},
     "output_type": "execute_result"
    }
   ],
   "source": [
    "reading_pickle"
   ]
  },
  {
   "cell_type": "markdown",
   "metadata": {},
   "source": [
    "working with JSON FILES"
   ]
  },
  {
   "cell_type": "code",
   "execution_count": 10,
   "metadata": {},
   "outputs": [],
   "source": [
    "import json\n",
    "\n",
    "college = {\n",
    "    \"college\": \"Engineering College\",\n",
    "    \"objectives\": \"Mastering Electrical and computer Engineering\",\n",
    "    \"departments\":{\n",
    "        \"dep1\": \"Electrical\",\n",
    "        \"dep2\": \"Computer\"\n",
    "    },\n",
    "    \"years\":[\n",
    "    \"year 1\",\n",
    "    \"year 2\",\n",
    "    \"year 3\",\n",
    "    \"year 4\"\n",
    "    ],\n",
    "    \"numbers\":[1, 2, 3, 4],\n",
    "    \"ID\":[10, 20, 30, 40]\n",
    "}\n",
    "\n",
    "json.dump(college, open(\"college.json\", \"w\"))"
   ]
  },
  {
   "cell_type": "code",
   "execution_count": null,
   "metadata": {},
   "outputs": [],
   "source": []
  }
 ],
 "metadata": {
  "kernelspec": {
   "display_name": "Python 3.10.4 64-bit",
   "language": "python",
   "name": "python3"
  },
  "language_info": {
   "codemirror_mode": {
    "name": "ipython",
    "version": 3
   },
   "file_extension": ".py",
   "mimetype": "text/x-python",
   "name": "python",
   "nbconvert_exporter": "python",
   "pygments_lexer": "ipython3",
   "version": "3.10.4"
  },
  "orig_nbformat": 4,
  "vscode": {
   "interpreter": {
    "hash": "ca58e8cac55cb04f132ae07c1533c21fd0414808777f258dac814ac22aa979e5"
   }
  }
 },
 "nbformat": 4,
 "nbformat_minor": 2
}
