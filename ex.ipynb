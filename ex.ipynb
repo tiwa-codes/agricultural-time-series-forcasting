{
 "cells": [
  {
   "cell_type": "markdown",
   "metadata": {},
   "source": []
  },
  {
   "cell_type": "code",
   "execution_count": 2,
   "metadata": {},
   "outputs": [
    {
     "name": "stdout",
     "output_type": "stream",
     "text": [
      "Requirement already satisfied: translate in c:\\users\\ademola estrom\\appdata\\local\\programs\\python\\python310\\lib\\site-packages (3.6.1)\n",
      "Requirement already satisfied: requests in c:\\users\\ademola estrom\\appdata\\local\\programs\\python\\python310\\lib\\site-packages (from translate) (2.27.1)\n",
      "Requirement already satisfied: libretranslatepy==2.1.1 in c:\\users\\ademola estrom\\appdata\\local\\programs\\python\\python310\\lib\\site-packages (from translate) (2.1.1)\n",
      "Requirement already satisfied: click in c:\\users\\ademola estrom\\appdata\\local\\programs\\python\\python310\\lib\\site-packages (from translate) (8.1.3)\n",
      "Requirement already satisfied: lxml in c:\\users\\ademola estrom\\appdata\\local\\programs\\python\\python310\\lib\\site-packages (from translate) (4.9.0)\n",
      "Requirement already satisfied: colorama in c:\\users\\ademola estrom\\appdata\\local\\programs\\python\\python310\\lib\\site-packages (from click->translate) (0.4.4)\n",
      "Requirement already satisfied: idna<4,>=2.5 in c:\\users\\ademola estrom\\appdata\\local\\programs\\python\\python310\\lib\\site-packages (from requests->translate) (3.3)\n",
      "Requirement already satisfied: urllib3<1.27,>=1.21.1 in c:\\users\\ademola estrom\\appdata\\local\\programs\\python\\python310\\lib\\site-packages (from requests->translate) (1.26.9)\n",
      "Requirement already satisfied: certifi>=2017.4.17 in c:\\users\\ademola estrom\\appdata\\local\\programs\\python\\python310\\lib\\site-packages (from requests->translate) (2022.5.18.1)\n",
      "Requirement already satisfied: charset-normalizer~=2.0.0 in c:\\users\\ademola estrom\\appdata\\local\\programs\\python\\python310\\lib\\site-packages (from requests->translate) (2.0.12)\n",
      "Note: you may need to restart the kernel to use updated packages.\n"
     ]
    }
   ],
   "source": [
    "%pip install translate"
   ]
  },
  {
   "cell_type": "code",
   "execution_count": 3,
   "metadata": {},
   "outputs": [
    {
     "name": "stdout",
     "output_type": "stream",
     "text": [
      "Buongiorno, mi chiamo...\n"
     ]
    }
   ],
   "source": [
    "from translate import Translator\n",
    "translator = Translator(from_lang=\"english\", to_lang=\"italian\")\n",
    "translation = translator.translate(\"hello, my name is Afolabi Tiwalola\")\n",
    "print(translation)"
   ]
  },
  {
   "cell_type": "markdown",
   "metadata": {},
   "source": [
    "Textblob"
   ]
  },
  {
   "cell_type": "markdown",
   "metadata": {},
   "source": [
    "DATA FILES APPLICATIONS"
   ]
  },
  {
   "cell_type": "code",
   "execution_count": 4,
   "metadata": {},
   "outputs": [],
   "source": [
    "# Generate 50 rows and 4 columns of data \n",
    "import numpy as np\n",
    "new_data = np.random.random((50,4))\n",
    "np.savetxt(\"main.csv\", new_data, fmt = \"%.2f\", delimiter=\",\", header=\"H1, H2, H3, H4\")"
   ]
  },
  {
   "cell_type": "code",
   "execution_count": 5,
   "metadata": {},
   "outputs": [
    {
     "data": {
      "text/plain": [
       "array([[0.64, 0.22, 0.65, 0.17],\n",
       "       [0.69, 0.18, 1.  , 0.75],\n",
       "       [0.03, 0.01, 0.14, 0.2 ],\n",
       "       [0.61, 0.05, 0.97, 0.49]])"
      ]
     },
     "execution_count": 5,
     "metadata": {},
     "output_type": "execute_result"
    }
   ],
   "source": [
    "# Read CSV File \n",
    "reading_csv = np.loadtxt(\"main.csv\", delimiter=\",\")\n",
    "reading_csv[:4, :]"
   ]
  },
  {
   "cell_type": "markdown",
   "metadata": {},
   "source": [
    "working with pickle files"
   ]
  },
  {
   "cell_type": "code",
   "execution_count": 6,
   "metadata": {},
   "outputs": [],
   "source": [
    "import pickle"
   ]
  },
  {
   "cell_type": "code",
   "execution_count": 7,
   "metadata": {},
   "outputs": [],
   "source": [
    "#Write to Pickle File\n",
    "ordering = {\"First\":1, \"Second\":2, \"Third\":3}\n",
    "pickle.dump(ordering, open(\"new.pkl\", 'wb'))"
   ]
  },
  {
   "cell_type": "code",
   "execution_count": 8,
   "metadata": {},
   "outputs": [],
   "source": [
    "#Read from pickle file\n",
    "reading_pickle = pickle.load(open(\"new.pkl\", \"rb\"))"
   ]
  },
  {
   "cell_type": "code",
   "execution_count": 9,
   "metadata": {},
   "outputs": [
    {
     "data": {
      "text/plain": [
       "{'First': 1, 'Second': 2, 'Third': 3}"
      ]
     },
     "execution_count": 9,
     "metadata": {},
     "output_type": "execute_result"
    }
   ],
   "source": [
    "reading_pickle"
   ]
  },
  {
   "cell_type": "markdown",
   "metadata": {},
   "source": [
    "working with JSON FILES"
   ]
  },
  {
   "cell_type": "code",
   "execution_count": 10,
   "metadata": {},
   "outputs": [],
   "source": [
    "import json\n",
    "\n",
    "college = {\n",
    "    \"college\": \"Engineering College\",\n",
    "    \"objectives\": \"Mastering Electrical and computer Engineering\",\n",
    "    \"departments\":{\n",
    "        \"dep1\": \"Electrical\",\n",
    "        \"dep2\": \"Computer\"\n",
    "    },\n",
    "    \"years\":[\n",
    "    \"year 1\",\n",
    "    \"year 2\",\n",
    "    \"year 3\",\n",
    "    \"year 4\"\n",
    "    ],\n",
    "    \"numbers\":[1, 2, 3, 4],\n",
    "    \"ID\":[10, 20, 30, 40]\n",
    "}\n",
    "\n",
    "json.dump(college, open(\"college.json\", \"w\"))"
   ]
  },
  {
   "cell_type": "code",
   "execution_count": 11,
   "metadata": {},
   "outputs": [],
   "source": [
    "new_college = json.load(open(\"college.json\", \"r\"))"
   ]
  },
  {
   "cell_type": "code",
   "execution_count": 12,
   "metadata": {},
   "outputs": [
    {
     "data": {
      "text/plain": [
       "{'college': 'Engineering College',\n",
       " 'objectives': 'Mastering Electrical and computer Engineering',\n",
       " 'departments': {'dep1': 'Electrical', 'dep2': 'Computer'},\n",
       " 'years': ['year 1', 'year 2', 'year 3', 'year 4'],\n",
       " 'numbers': [1, 2, 3, 4],\n",
       " 'ID': [10, 20, 30, 40]}"
      ]
     },
     "execution_count": 12,
     "metadata": {},
     "output_type": "execute_result"
    }
   ],
   "source": [
    "new_college"
   ]
  },
  {
   "cell_type": "markdown",
   "metadata": {},
   "source": [
    "Use PyPDF2 to manage PDF Files"
   ]
  },
  {
   "cell_type": "code",
   "execution_count": 13,
   "metadata": {},
   "outputs": [
    {
     "name": "stdout",
     "output_type": "stream",
     "text": [
      "Requirement already satisfied: PyPDF2 in c:\\users\\ademola estrom\\appdata\\local\\programs\\python\\python310\\lib\\site-packages (2.3.1)\n",
      "Note: you may need to restart the kernel to use updated packages.\n"
     ]
    }
   ],
   "source": [
    "%pip install PyPDF2"
   ]
  },
  {
   "cell_type": "code",
   "execution_count": 14,
   "metadata": {},
   "outputs": [],
   "source": [
    "import PyPDF2"
   ]
  },
  {
   "cell_type": "code",
   "execution_count": 15,
   "metadata": {},
   "outputs": [
    {
     "ename": "PdfReadError",
     "evalue": "PDF starts with 'intro', but '%PDF-' expected",
     "output_type": "error",
     "traceback": [
      "\u001b[1;31m---------------------------------------------------------------------------\u001b[0m",
      "\u001b[1;31mPdfReadError\u001b[0m                              Traceback (most recent call last)",
      "\u001b[1;32mc:\\Users\\Ademola Estrom\\Documents\\database\\ex.ipynb Cell 20'\u001b[0m in \u001b[0;36m<cell line: 2>\u001b[1;34m()\u001b[0m\n\u001b[0;32m      <a href='vscode-notebook-cell:/c%3A/Users/Ademola%20Estrom/Documents/database/ex.ipynb#ch0000019?line=0'>1</a>\u001b[0m new_pdf \u001b[39m=\u001b[39m \u001b[39mopen\u001b[39m(\u001b[39m'\u001b[39m\u001b[39mintro.pdf\u001b[39m\u001b[39m'\u001b[39m, \u001b[39m'\u001b[39m\u001b[39mrb\u001b[39m\u001b[39m'\u001b[39m) \u001b[39m#file object creation\u001b[39;00m\n\u001b[1;32m----> <a href='vscode-notebook-cell:/c%3A/Users/Ademola%20Estrom/Documents/database/ex.ipynb#ch0000019?line=1'>2</a>\u001b[0m reading_pdf \u001b[39m=\u001b[39m PyPDF2\u001b[39m.\u001b[39;49mPdfFileReader(new_pdf) \u001b[39m#pdf reader\u001b[39;00m\n\u001b[0;32m      <a href='vscode-notebook-cell:/c%3A/Users/Ademola%20Estrom/Documents/database/ex.ipynb#ch0000019?line=2'>3</a>\u001b[0m \u001b[39mprint\u001b[39m(reading_pdf\u001b[39m.\u001b[39mnumPages) \u001b[39m#number of pages in pdf\u001b[39;00m\n\u001b[0;32m      <a href='vscode-notebook-cell:/c%3A/Users/Ademola%20Estrom/Documents/database/ex.ipynb#ch0000019?line=4'>5</a>\u001b[0m pdf_page \u001b[39m=\u001b[39m reading_pdf\u001b[39m.\u001b[39mgetpage(\u001b[39m0\u001b[39m) \u001b[39m#page object creation\u001b[39;00m\n",
      "File \u001b[1;32mc:\\Users\\Ademola Estrom\\AppData\\Local\\Programs\\Python\\Python310\\lib\\site-packages\\PyPDF2\\_reader.py:1644\u001b[0m, in \u001b[0;36mPdfFileReader.__init__\u001b[1;34m(self, *args, **kwargs)\u001b[0m\n\u001b[0;32m   1642\u001b[0m \u001b[39mif\u001b[39;00m \u001b[39m\"\u001b[39m\u001b[39mstrict\u001b[39m\u001b[39m\"\u001b[39m \u001b[39mnot\u001b[39;00m \u001b[39min\u001b[39;00m kwargs \u001b[39mand\u001b[39;00m \u001b[39mlen\u001b[39m(args) \u001b[39m<\u001b[39m \u001b[39m2\u001b[39m:\n\u001b[0;32m   1643\u001b[0m     kwargs[\u001b[39m\"\u001b[39m\u001b[39mstrict\u001b[39m\u001b[39m\"\u001b[39m] \u001b[39m=\u001b[39m \u001b[39mTrue\u001b[39;00m  \u001b[39m# maintain the default\u001b[39;00m\n\u001b[1;32m-> 1644\u001b[0m \u001b[39msuper\u001b[39m()\u001b[39m.\u001b[39m\u001b[39m__init__\u001b[39m(\u001b[39m*\u001b[39margs, \u001b[39m*\u001b[39m\u001b[39m*\u001b[39mkwargs)\n",
      "File \u001b[1;32mc:\\Users\\Ademola Estrom\\AppData\\Local\\Programs\\Python\\Python310\\lib\\site-packages\\PyPDF2\\_reader.py:253\u001b[0m, in \u001b[0;36mPdfReader.__init__\u001b[1;34m(self, stream, strict, password)\u001b[0m\n\u001b[0;32m    251\u001b[0m     \u001b[39mwith\u001b[39;00m \u001b[39mopen\u001b[39m(stream, \u001b[39m\"\u001b[39m\u001b[39mrb\u001b[39m\u001b[39m\"\u001b[39m) \u001b[39mas\u001b[39;00m fh:\n\u001b[0;32m    252\u001b[0m         stream \u001b[39m=\u001b[39m BytesIO(fh\u001b[39m.\u001b[39mread())\n\u001b[1;32m--> 253\u001b[0m \u001b[39mself\u001b[39;49m\u001b[39m.\u001b[39;49mread(stream)\n\u001b[0;32m    254\u001b[0m \u001b[39mself\u001b[39m\u001b[39m.\u001b[39mstream \u001b[39m=\u001b[39m stream\n\u001b[0;32m    256\u001b[0m \u001b[39mself\u001b[39m\u001b[39m.\u001b[39m_override_encryption \u001b[39m=\u001b[39m \u001b[39mFalse\u001b[39;00m\n",
      "File \u001b[1;32mc:\\Users\\Ademola Estrom\\AppData\\Local\\Programs\\Python\\Python310\\lib\\site-packages\\PyPDF2\\_reader.py:1172\u001b[0m, in \u001b[0;36mPdfReader.read\u001b[1;34m(self, stream)\u001b[0m\n\u001b[0;32m   1170\u001b[0m     header_byte \u001b[39m=\u001b[39m stream\u001b[39m.\u001b[39mread(\u001b[39m5\u001b[39m)\n\u001b[0;32m   1171\u001b[0m     \u001b[39mif\u001b[39;00m header_byte \u001b[39m!=\u001b[39m \u001b[39mb\u001b[39m\u001b[39m\"\u001b[39m\u001b[39m%\u001b[39m\u001b[39mPDF-\u001b[39m\u001b[39m\"\u001b[39m:\n\u001b[1;32m-> 1172\u001b[0m         \u001b[39mraise\u001b[39;00m PdfReadError(\n\u001b[0;32m   1173\u001b[0m             \u001b[39mf\u001b[39m\u001b[39m\"\u001b[39m\u001b[39mPDF starts with \u001b[39m\u001b[39m'\u001b[39m\u001b[39m{\u001b[39;00mheader_byte\u001b[39m.\u001b[39mdecode(\u001b[39m'\u001b[39m\u001b[39mutf8\u001b[39m\u001b[39m'\u001b[39m)\u001b[39m}\u001b[39;00m\u001b[39m'\u001b[39m\u001b[39m, \u001b[39m\u001b[39m\"\u001b[39m\n\u001b[0;32m   1174\u001b[0m             \u001b[39m\"\u001b[39m\u001b[39mbut \u001b[39m\u001b[39m'\u001b[39m\u001b[39m%\u001b[39m\u001b[39mPDF-\u001b[39m\u001b[39m'\u001b[39m\u001b[39m expected\u001b[39m\u001b[39m\"\u001b[39m\n\u001b[0;32m   1175\u001b[0m         )\n\u001b[0;32m   1176\u001b[0m     stream\u001b[39m.\u001b[39mseek(\u001b[39m0\u001b[39m, os\u001b[39m.\u001b[39mSEEK_END)\n\u001b[0;32m   1177\u001b[0m last_mb \u001b[39m=\u001b[39m stream\u001b[39m.\u001b[39mtell() \u001b[39m-\u001b[39m \u001b[39m1024\u001b[39m \u001b[39m*\u001b[39m \u001b[39m1024\u001b[39m \u001b[39m+\u001b[39m \u001b[39m1\u001b[39m  \u001b[39m# offset of last MB of stream\u001b[39;00m\n",
      "\u001b[1;31mPdfReadError\u001b[0m: PDF starts with 'intro', but '%PDF-' expected"
     ]
    }
   ],
   "source": [
    "new_pdf = open('intro.pdf', 'rb') #file object creation\n",
    "reading_pdf = PyPDF2.PdfFileReader(new_pdf) #pdf reader\n",
    "print(reading_pdf.numPages) #number of pages in pdf\n",
    "\n",
    "pdf_page = reading_pdf.getpage(0) #page object creation\n",
    "print(pdf_page.extractText())\n",
    "\n",
    "#close PDF FIle\n",
    "new_pdf.close()"
   ]
  },
  {
   "cell_type": "code",
   "execution_count": null,
   "metadata": {},
   "outputs": [],
   "source": []
  }
 ],
 "metadata": {
  "kernelspec": {
   "display_name": "Python 3.10.4 64-bit",
   "language": "python",
   "name": "python3"
  },
  "language_info": {
   "codemirror_mode": {
    "name": "ipython",
    "version": 3
   },
   "file_extension": ".py",
   "mimetype": "text/x-python",
   "name": "python",
   "nbconvert_exporter": "python",
   "pygments_lexer": "ipython3",
   "version": "3.10.4"
  },
  "orig_nbformat": 4,
  "vscode": {
   "interpreter": {
    "hash": "ca58e8cac55cb04f132ae07c1533c21fd0414808777f258dac814ac22aa979e5"
   }
  }
 },
 "nbformat": 4,
 "nbformat_minor": 2
}
